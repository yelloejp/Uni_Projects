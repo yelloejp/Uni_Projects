{
 "cells": [
  {
   "cell_type": "markdown",
   "metadata": {},
   "source": [
    "## Strategy\n",
    "\n",
    "The dataset consists of categorical and numeric attributes with binary label for each instance. Instead of using all attributes, relevant attributes are selected. Then, logistic regression and KNN algorithm are used for prediction. "
   ]
  },
  {
   "cell_type": "code",
   "execution_count": 1,
   "metadata": {},
   "outputs": [],
   "source": [
    "import numpy as np\n",
    "import pandas as pd\n",
    "from collections import Counter\n",
    "import matplotlib.pyplot as plt\n",
    "from sklearn.preprocessing import StandardScaler, LabelEncoder"
   ]
  },
  {
   "cell_type": "markdown",
   "metadata": {},
   "source": [
    "#### 1) Data preprocessing\n",
    "To train the model, only relevant attributes are selected. To dismiss scale effects, the dataset is normalized by StandardScaler. \n",
    "Training dataset is divided into training and validation subsets. After tranining classification model, test the model on testing dataset. "
   ]
  },
  {
   "cell_type": "code",
   "execution_count": 2,
   "metadata": {},
   "outputs": [],
   "source": [
    "train = pd.read_csv('./train.csv', index_col=0)\n",
    "\n",
    "numeric_cols = ['QaE', 'QbE', 'QcE', 'QdE', 'QeE', 'QfE', 'QgE', 'QhE', 'QiE', 'QjE', 'QkE', 'QlE', 'QmE', 'QnE', 'QoE', 'QpE', 'QqE',\n",
    "                'QrE', 'QsE', 'QtE']\n",
    "\n",
    "cate_cols = ['QaA', 'QbA', 'QcA', 'QdA', 'QeA', 'QfA', 'QgA', 'QhA', 'QiA', 'QjA', 'QkA', 'QlA', 'QmA', 'QnA', 'QoA', 'QpA', 'QqA',\n",
    "             'QrA', 'QsA', 'QtA', 'education', 'engnat', 'familysize', 'hand', 'married', 'tp01', 'tp02', 'tp03',\n",
    "            'tp04', 'tp05', 'tp06', 'tp07', 'tp08', 'tp09', 'tp10', 'urban', 'wf_01', 'wf_02', 'wf_03', 'wr_01', 'wr_02', 'wr_03', \n",
    "            'wr_04', 'wr_05', 'wr_06', 'wr_07', 'wr_08', 'wr_09', 'wr_10', 'wr_11', 'wr_12', 'wr_13']\n",
    "\n",
    "str_cols = ['age_group', 'gender', 'race', 'religion']\n",
    "\n",
    "label = LabelEncoder()\n",
    "\n",
    "for i in str_cols : \n",
    "    train[i] = label.fit_transform(train[i])\n",
    "    \n",
    "train[numeric_cols] = (train[numeric_cols] - train[numeric_cols].min()) / (train[numeric_cols].max() - train[numeric_cols].min())"
   ]
  },
  {
   "cell_type": "code",
   "execution_count": 3,
   "metadata": {},
   "outputs": [],
   "source": [
    "from sklearn.model_selection import train_test_split\n",
    "training, validation = train_test_split(train, test_size=0.3)"
   ]
  },
  {
   "cell_type": "code",
   "execution_count": 4,
   "metadata": {},
   "outputs": [
    {
     "data": {
      "text/html": [
       "<div>\n",
       "<style scoped>\n",
       "    .dataframe tbody tr th:only-of-type {\n",
       "        vertical-align: middle;\n",
       "    }\n",
       "\n",
       "    .dataframe tbody tr th {\n",
       "        vertical-align: top;\n",
       "    }\n",
       "\n",
       "    .dataframe thead th {\n",
       "        text-align: right;\n",
       "    }\n",
       "</style>\n",
       "<table border=\"1\" class=\"dataframe\">\n",
       "  <thead>\n",
       "    <tr style=\"text-align: right;\">\n",
       "      <th></th>\n",
       "      <th>QaA</th>\n",
       "      <th>QaE</th>\n",
       "      <th>QbA</th>\n",
       "      <th>QbE</th>\n",
       "      <th>QcA</th>\n",
       "      <th>QcE</th>\n",
       "      <th>QdA</th>\n",
       "      <th>QdE</th>\n",
       "      <th>QeA</th>\n",
       "      <th>QeE</th>\n",
       "      <th>...</th>\n",
       "      <th>wr_04</th>\n",
       "      <th>wr_05</th>\n",
       "      <th>wr_06</th>\n",
       "      <th>wr_07</th>\n",
       "      <th>wr_08</th>\n",
       "      <th>wr_09</th>\n",
       "      <th>wr_10</th>\n",
       "      <th>wr_11</th>\n",
       "      <th>wr_12</th>\n",
       "      <th>wr_13</th>\n",
       "    </tr>\n",
       "    <tr>\n",
       "      <th>index</th>\n",
       "      <th></th>\n",
       "      <th></th>\n",
       "      <th></th>\n",
       "      <th></th>\n",
       "      <th></th>\n",
       "      <th></th>\n",
       "      <th></th>\n",
       "      <th></th>\n",
       "      <th></th>\n",
       "      <th></th>\n",
       "      <th></th>\n",
       "      <th></th>\n",
       "      <th></th>\n",
       "      <th></th>\n",
       "      <th></th>\n",
       "      <th></th>\n",
       "      <th></th>\n",
       "      <th></th>\n",
       "      <th></th>\n",
       "      <th></th>\n",
       "      <th></th>\n",
       "    </tr>\n",
       "  </thead>\n",
       "  <tbody>\n",
       "    <tr>\n",
       "      <th>0</th>\n",
       "      <td>3.0</td>\n",
       "      <td>0.000140</td>\n",
       "      <td>4.0</td>\n",
       "      <td>0.000241</td>\n",
       "      <td>5.0</td>\n",
       "      <td>0.001115</td>\n",
       "      <td>1.0</td>\n",
       "      <td>0.000643</td>\n",
       "      <td>2.0</td>\n",
       "      <td>0.000808</td>\n",
       "      <td>...</td>\n",
       "      <td>0</td>\n",
       "      <td>1</td>\n",
       "      <td>0</td>\n",
       "      <td>1</td>\n",
       "      <td>1</td>\n",
       "      <td>0</td>\n",
       "      <td>1</td>\n",
       "      <td>0</td>\n",
       "      <td>1</td>\n",
       "      <td>1</td>\n",
       "    </tr>\n",
       "    <tr>\n",
       "      <th>1</th>\n",
       "      <td>5.0</td>\n",
       "      <td>0.000258</td>\n",
       "      <td>5.0</td>\n",
       "      <td>0.000231</td>\n",
       "      <td>3.0</td>\n",
       "      <td>0.003858</td>\n",
       "      <td>5.0</td>\n",
       "      <td>0.001895</td>\n",
       "      <td>1.0</td>\n",
       "      <td>0.002237</td>\n",
       "      <td>...</td>\n",
       "      <td>1</td>\n",
       "      <td>1</td>\n",
       "      <td>0</td>\n",
       "      <td>1</td>\n",
       "      <td>1</td>\n",
       "      <td>0</td>\n",
       "      <td>1</td>\n",
       "      <td>0</td>\n",
       "      <td>1</td>\n",
       "      <td>1</td>\n",
       "    </tr>\n",
       "    <tr>\n",
       "      <th>2</th>\n",
       "      <td>4.0</td>\n",
       "      <td>0.000662</td>\n",
       "      <td>1.0</td>\n",
       "      <td>0.000261</td>\n",
       "      <td>1.0</td>\n",
       "      <td>0.001143</td>\n",
       "      <td>4.0</td>\n",
       "      <td>0.002156</td>\n",
       "      <td>5.0</td>\n",
       "      <td>0.000681</td>\n",
       "      <td>...</td>\n",
       "      <td>1</td>\n",
       "      <td>1</td>\n",
       "      <td>0</td>\n",
       "      <td>1</td>\n",
       "      <td>1</td>\n",
       "      <td>1</td>\n",
       "      <td>1</td>\n",
       "      <td>0</td>\n",
       "      <td>1</td>\n",
       "      <td>1</td>\n",
       "    </tr>\n",
       "  </tbody>\n",
       "</table>\n",
       "<p>3 rows × 77 columns</p>\n",
       "</div>"
      ],
      "text/plain": [
       "       QaA       QaE  QbA       QbE  QcA       QcE  QdA       QdE  QeA  \\\n",
       "index                                                                    \n",
       "0      3.0  0.000140  4.0  0.000241  5.0  0.001115  1.0  0.000643  2.0   \n",
       "1      5.0  0.000258  5.0  0.000231  3.0  0.003858  5.0  0.001895  1.0   \n",
       "2      4.0  0.000662  1.0  0.000261  1.0  0.001143  4.0  0.002156  5.0   \n",
       "\n",
       "            QeE  ...  wr_04  wr_05  wr_06  wr_07  wr_08  wr_09  wr_10  wr_11  \\\n",
       "index            ...                                                           \n",
       "0      0.000808  ...      0      1      0      1      1      0      1      0   \n",
       "1      0.002237  ...      1      1      0      1      1      0      1      0   \n",
       "2      0.000681  ...      1      1      0      1      1      1      1      0   \n",
       "\n",
       "       wr_12  wr_13  \n",
       "index                \n",
       "0          1      1  \n",
       "1          1      1  \n",
       "2          1      1  \n",
       "\n",
       "[3 rows x 77 columns]"
      ]
     },
     "execution_count": 4,
     "metadata": {},
     "output_type": "execute_result"
    }
   ],
   "source": [
    "train.head(3)"
   ]
  },
  {
   "cell_type": "markdown",
   "metadata": {},
   "source": [
    "#### 2) KNN algorithm\n",
    "Each instance checks labels from K nearest neighbors to determine its label. "
   ]
  },
  {
   "cell_type": "code",
   "execution_count": 5,
   "metadata": {},
   "outputs": [],
   "source": [
    "def distance(a, b):\n",
    "    dist = np.sqrt(((a - b)**2).sum(axis=1))\n",
    "    return dist"
   ]
  },
  {
   "cell_type": "code",
   "execution_count": 6,
   "metadata": {},
   "outputs": [],
   "source": [
    "num = len(training)\n",
    "val_num = len(validation)\n",
    "\n",
    "dist_matrix = np.zeros(num*num).reshape(num, num)\n",
    "val_dist_matrix = np.zeros(val_num*num).reshape(val_num, num)"
   ]
  },
  {
   "cell_type": "code",
   "execution_count": 7,
   "metadata": {},
   "outputs": [],
   "source": [
    "arr_training = training.to_numpy()\n",
    "arr_validation = validation.to_numpy()\n",
    "\n",
    "for idx in range(val_num) : \n",
    "    val_dist_matrix[idx] = distance(arr_validation[idx], arr_training[:])"
   ]
  },
  {
   "cell_type": "code",
   "execution_count": 8,
   "metadata": {},
   "outputs": [],
   "source": [
    "k_neighbors = [20, 30, 40, 50, 60, 70, 80, 90, 100]\n",
    "hist_acc = [] \n",
    "for n_neighbors in k_neighbors : \n",
    "    val_pred = []\n",
    "    \n",
    "    for idx in range(val_num) :\n",
    "        cols = np.argsort(val_dist_matrix[idx])[:n_neighbors]\n",
    "        ix = Counter(training.iloc[cols].voted.values)\n",
    "        ort = ix.most_common(1)[0][0]\n",
    "        val_pred.append(ort)\n",
    "    \n",
    "    val_pred = np.array(val_pred)\n",
    "    labels = validation.voted.to_numpy()\n",
    "    acc = np.equal(val_pred, labels).sum() / val_num * 100\n",
    "    hist_acc.append(acc)   "
   ]
  },
  {
   "cell_type": "code",
   "execution_count": 9,
   "metadata": {},
   "outputs": [
    {
     "data": {
      "text/plain": [
       "[72.34992679355783,\n",
       " 73.01610541727672,\n",
       " 73.45534407027819,\n",
       " 73.14787701317717,\n",
       " 73.30161054172767,\n",
       " 73.73352855051245,\n",
       " 73.5358711566618,\n",
       " 73.49194729136164,\n",
       " 73.46998535871157]"
      ]
     },
     "execution_count": 9,
     "metadata": {},
     "output_type": "execute_result"
    }
   ],
   "source": [
    "hist_acc"
   ]
  },
  {
   "cell_type": "code",
   "execution_count": 10,
   "metadata": {},
   "outputs": [
    {
     "data": {
      "text/plain": [
       "[<matplotlib.lines.Line2D at 0x26047dc6b70>]"
      ]
     },
     "execution_count": 10,
     "metadata": {},
     "output_type": "execute_result"
    },
    {
     "data": {
      "image/png": "[encoded data removed]",
      "text/plain": [
       "<Figure size 432x288 with 1 Axes>"
      ]
     },
     "metadata": {
      "needs_background": "light"
     },
     "output_type": "display_data"
    }
   ],
   "source": [
    "plt.plot(hist_acc)"
   ]
  },
  {
   "cell_type": "markdown",
   "metadata": {},
   "source": [
    "#### 3) Test on testing dataset\n",
    "According to above experiements, it seems that predicting the label from 2 neighbors looks promising. Therefore, each instance computes 2 nearest neighbors in training dataset to predict label for testing dataset. "
   ]
  },
  {
   "cell_type": "code",
   "execution_count": 11,
   "metadata": {},
   "outputs": [],
   "source": [
    "test = pd.read_csv('./test_x.csv', index_col=0)\n",
    "\n",
    "label = LabelEncoder()\n",
    "\n",
    "for i in str_cols : \n",
    "    test[i] = label.fit_transform(test[i])\n",
    "    \n",
    "test[numeric_cols] = (test[numeric_cols] - test[numeric_cols].min()) / (test[numeric_cols].max() - test[numeric_cols].min())"
   ]
  },
  {
   "cell_type": "code",
   "execution_count": 12,
   "metadata": {},
   "outputs": [],
   "source": [
    "test_num = len(test)\n",
    "test_dist_matrix = np.zeros(test_num*num).reshape(test_num, num)\n",
    "arr_test = test.to_numpy()"
   ]
  },
  {
   "cell_type": "code",
   "execution_count": 13,
   "metadata": {},
   "outputs": [],
   "source": [
    "test_pred = []\n",
    "K = 70\n",
    "for idx in range(test_num) : \n",
    "    test_dist_matrix[idx] = distance(arr_test[idx], arr_training[:,:-1])    \n",
    "    cols = np.argsort(test_dist_matrix[idx])[:K]\n",
    "    ix = Counter(training.iloc[cols].voted.values)\n",
    "    ort = ix.most_common(1)[0][0]\n",
    "    test_pred.append(ort)"
   ]
  }
 ],
 "metadata": {
  "kernelspec": {
   "display_name": "Python 3",
   "language": "python",
   "name": "python3"
  },
  "language_info": {
   "codemirror_mode": {
    "name": "ipython",
    "version": 3
   },
   "file_extension": ".py",
   "mimetype": "text/x-python",
   "name": "python",
   "nbconvert_exporter": "python",
   "pygments_lexer": "ipython3",
   "version": "3.7.3"
  }
 },
 "nbformat": 4,
 "nbformat_minor": 4
}
