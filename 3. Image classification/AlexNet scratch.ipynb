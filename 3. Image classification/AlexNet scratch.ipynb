{
  "nbformat": 4,
  "nbformat_minor": 0,
  "metadata": {
    "colab": {
      "name": "Exercise2.ipynb",
      "provenance": [],
      "collapsed_sections": []
    },
    "kernelspec": {
      "name": "python3",
      "display_name": "Python 3"
    },
    "accelerator": "GPU"
  },
  "cells": [
    {
      "cell_type": "markdown",
      "metadata": {
        "id": "jknoIGJEQbRi"
      },
      "source": [
        "# This notebook includes scratch AlexNet"
      ]
    },
    {
      "cell_type": "markdown",
      "metadata": {
        "id": "5WKs_QNzC_h6"
      },
      "source": [
        "### 1) Install required packages and dataset"
      ]
    },
    {
      "cell_type": "code",
      "metadata": {
        "id": "IO-qHXLXMdqS"
      },
      "source": [
        "import numpy as np\n",
        "import pickle as pk\n",
        "from google.colab import drive\n",
        "import tensorflow as tf\n",
        "from keras.datasets import cifar10\n",
        "import matplotlib.pyplot as plt\n",
        "from tensorflow.keras.layers import Dense, Flatten, Conv2D, MaxPooling2D, Dropout, BatchNormalization\n",
        "from tensorflow.keras import models\n",
        "from tensorflow.keras.models import Sequential\n",
        "from tensorflow.keras import Model as Model_\n",
        "from skimage.transform import resize\n",
        "np.set_printoptions(precision=3)"
      ],
      "execution_count": null,
      "outputs": []
    },
    {
      "cell_type": "code",
      "metadata": {
        "id": "qo5eDJddTM5r"
      },
      "source": [
        "(x_train, y_train), (x_test, y_test) = cifar10.load_data()"
      ],
      "execution_count": null,
      "outputs": []
    },
    {
      "cell_type": "code",
      "metadata": {
        "id": "Cn5g3poMOUti",
        "outputId": "b4e0c2e3-1463-4c69-c1c9-803cd56961ae",
        "colab": {
          "base_uri": "https://localhost:8080/",
          "height": 284
        }
      },
      "source": [
        "# The size of image is 32*32*3\n",
        "# Sample image\n",
        "def showIMG(data):\n",
        "  plt.imshow(data)\n",
        "\n",
        "showIMG(x_train[0]/255)\n",
        "print(\"shape of image\", x_train[0].shape) "
      ],
      "execution_count": null,
      "outputs": [
        {
          "output_type": "stream",
          "text": [
            "shape of image (32, 32, 3)\n"
          ],
          "name": "stdout"
        },
        {
          "output_type": "display_data",
          "data": {
            "image/png": "[encoded data removed]",
            "text/plain": [
              "<Figure size 432x288 with 1 Axes>"
            ]
          },
          "metadata": {
            "tags": [],
            "needs_background": "light"
          }
        }
      ]
    },
    {
      "cell_type": "markdown",
      "metadata": {
        "id": "IMXTmsRZ1KMC"
      },
      "source": [
        "### 2) Data preprocessing\n",
        "- Data normalization\n",
        "- Divide dataset into traning and testing sets"
      ]
    },
    {
      "cell_type": "code",
      "metadata": {
        "id": "1SO0bvtZx_rx"
      },
      "source": [
        "x_train, x_test = x_train/255, x_test/255"
      ],
      "execution_count": null,
      "outputs": []
    },
    {
      "cell_type": "code",
      "metadata": {
        "id": "z7OdaKijdgwp"
      },
      "source": [
        "idx = np.random.choice(50000, 500,replace=False)\n",
        "x = x_train[idx]\n",
        "y = y_train[idx]"
      ],
      "execution_count": null,
      "outputs": []
    },
    {
      "cell_type": "code",
      "metadata": {
        "id": "wAD6FSfbhrYO"
      },
      "source": [
        "tidx = np.random.choice(10000, 100,replace=False)\n",
        "tx = x_test[tidx]\n",
        "ty = y_test[tidx]"
      ],
      "execution_count": null,
      "outputs": []
    },
    {
      "cell_type": "code",
      "metadata": {
        "id": "-jqLO-59hflm"
      },
      "source": [
        "y = tf.one_hot(y, 10)\n",
        "ty=  tf.one_hot(ty, 10)"
      ],
      "execution_count": null,
      "outputs": []
    },
    {
      "cell_type": "markdown",
      "metadata": {
        "id": "JAP2er5X25hV"
      },
      "source": [
        "### 3) Build AlexNet\n",
        "Paper link: https://www.isip.uni-luebeck.de/fileadmin/uploads/tx_wapublications/hertel_ijcnn_2015.pdf"
      ]
    },
    {
      "cell_type": "code",
      "metadata": {
        "id": "YM5XPMDkgGCN"
      },
      "source": [
        "############################################################################################\n",
        "# Revised Version\n",
        "############################################################################################\n",
        "class CNN(Model_):\n",
        "  def __init__(self):\n",
        "    super(CNN, self).__init__()\n",
        "\n",
        "    self.Layer1=Conv2D(filters=96, kernel_size=11, strides=(4,4), padding='valid', activation='relu')  # 55*55*96\n",
        "    self.Layer2=MaxPooling2D(pool_size=(3,3), strides=(2,2), padding='valid')                          # 55*55*96\n",
        "    self.Layer3=BatchNormalization()                                                                   # 55*55*96\n",
        "    self.Layer4=Conv2D(filters=256, kernel_size=5, strides=(1,1), padding='same', activation='relu')   # 27*27*256\n",
        "    self.Layer5=MaxPooling2D(pool_size=(3,3), strides=(2,2), padding='valid')                          # 13*13*256\n",
        "    self.Layer6=BatchNormalization()                                                                   # 13*13*256\n",
        "    self.Layer7=Conv2D(filters=384, kernel_size=3, strides=(1,1), padding='same', activation='relu')   # 13*13*384\n",
        "    self.Layer8=Conv2D(filters=384, kernel_size=3, strides=(1,1), padding='same', activation='relu')   # 13*13*384\n",
        "    self.Layer9=Conv2D(filters=384, kernel_size=3, strides=(1,1), padding='same', activation='relu')   # 13*13*256\n",
        "    self.Layer10=MaxPooling2D(pool_size=(3,3), strides=(2,2), padding='valid')                          # 6*6*256\n",
        "    self.Layer11=Flatten()                                                                              # 9216\n",
        "    self.Layer12=Dense(units=4096, activation='relu')                                                   # 4096\n",
        "    self.Layer13=Dropout(rate=0.5)\n",
        "    self.Layer14=Dense(units=4096, activation='relu')                                                   # 4096\n",
        "    self.Layer15=Dropout(rate=0.5)\n",
        "    self.Layer16=Dense(units=1000)                                                                      # 1000\n",
        "    self.Layer17=Dense(units=10, activation='softmax')                                                  # 10\n",
        "    \n",
        "  def call(self, data):\n",
        "    output = self.Layer1(data)\n",
        "    output = self.Layer2(output)\n",
        "    output = self.Layer3(output)\n",
        "    output = self.Layer4(output)\n",
        "    output = self.Layer5(output)\n",
        "    output = self.Layer6(output)\n",
        "    output = self.Layer7(output)\n",
        "    output = self.Layer8(output)\n",
        "    output = self.Layer9(output)\n",
        "    output = self.Layer10(output)\n",
        "    output = self.Layer11(output)\n",
        "    output = self.Layer12(output)\n",
        "    output = self.Layer13(output)\n",
        "    output = self.Layer14(output)\n",
        "    output = self.Layer15(output)\n",
        "    output = self.Layer16(output)\n",
        "    output = self.Layer17(output)\n",
        "    return output"
      ],
      "execution_count": null,
      "outputs": []
    },
    {
      "cell_type": "markdown",
      "metadata": {
        "id": "1rp0dCzU0jSp"
      },
      "source": [
        "### 4) Define Optimizer \n",
        "- To train the model, we need to resize the image to 227x227x3 \n",
        "- Resizing the dataset at once is expensive so that we resize the data when forwarding batch data. "
      ]
    },
    {
      "cell_type": "code",
      "metadata": {
        "id": "V5xcswPs0E6Y"
      },
      "source": [
        "class Optimizer:\n",
        "  def __init__(self, model, batch_size = 10, loss = tf.keras.losses.MeanSquaredError, lr = 0.001, opt=tf.keras.optimizers.Adam):\n",
        "    self.model     = model\n",
        "    self.loss      = loss()\n",
        "    self.optimizer = opt(learning_rate = lr)\n",
        "    self.batch_size = batch_size\n",
        "    self.train_loss     = tf.keras.metrics.Mean(name='train_loss')\n",
        "    self.train_accuracy = tf.keras.metrics.SparseCategoricalAccuracy(name='train_accuracy')\n",
        "    self.test_loss     = tf.keras.metrics.Mean(name='test_loss')\n",
        "    self.test_accuracy = tf.keras.metrics.SparseCategoricalAccuracy(name='test_accuracy')\n",
        "    \n",
        "  @tf.function\n",
        "  def train_step(self, x , y):\n",
        "    with tf.GradientTape() as tape:\n",
        "      predictions = self.model(x)\n",
        "      loss = self.loss(predictions, y)\n",
        "    gradients = tape.gradient(loss, self.model.trainable_variables)\n",
        "    self.optimizer.apply_gradients(zip(gradients, self.model.trainable_variables))\n",
        "    acc = self.train_accuracy(y, predictions)\n",
        "    self.train_loss(loss)\n",
        "    self.train_accuracy(y, predictions)\n",
        "    return loss\n",
        "\n",
        "  @tf.function\n",
        "  def test_step(self, x , y):\n",
        "    predictions = self.model(x)\n",
        "    loss = self.loss(predictions, y)\n",
        "    self.test_loss(loss)\n",
        "    self.test_accuracy(y, predictions) \n",
        "    \n",
        "  def train (self):\n",
        "    for mbX, mbY in self.train_ds:\n",
        "      self.train_step(resize(mbX, (self.batch_size, 227,227)), mbY)\n",
        "\n",
        "  def test  (self):\n",
        "    for mbX, mbY in self.test_ds:\n",
        "      self.test_step(resize(mbX, (self.batch_size, 227,227)), mbY)  \n",
        "\n",
        "  def run   (self, dataX, dataY, testX, testY, epochs): #verbose=2\n",
        "    historyTR_LOSS = []\n",
        "    historyTS_LOSS = []\n",
        "    historyTR_ACC = []\n",
        "    historyTS_ACC = []\n",
        "\n",
        "    template = '{} {}, {}: {}, {}: {}, {}: {}, {}: {}'\n",
        "    self.train_ds = tf.data.Dataset.from_tensor_slices((dataX, dataY)).shuffle(16000).batch(self.batch_size)\n",
        "    self.test_ds  = tf.data.Dataset.from_tensor_slices((testX,testY)).batch(self.batch_size)\n",
        "\n",
        "    for i in range(epochs):\n",
        "      self.train ()\n",
        "      self.test  ()\n",
        "      verbose=2\n",
        "      if verbose > 0: \n",
        "        print(template.format(\"epoch: \", i+1,\n",
        "                              \"TRAIN LOSS: \", self.train_loss.result(),\n",
        "                              \"TEST LOSS: \" , self.test_loss.result(),\n",
        "                              \"TRAIN ACC: \" , self.train_accuracy.result().numpy()*100,\n",
        "                              \"TEST ACC: \"  , self.test_accuracy.result().numpy()*100))\n",
        "      temp = '{}'\n",
        "    \n",
        "      historyTR_LOSS.append(float(temp.format(self.train_loss.result().numpy())))\n",
        "      historyTS_LOSS.append(float(temp.format(self.train_loss.result().numpy())))\n",
        "      historyTR_ACC.append(float(temp.format(self.train_accuracy.result().numpy()*100)))\n",
        "      historyTS_ACC.append(float(temp.format(self.test_accuracy.result().numpy()*100)))\n",
        "\n",
        "      self.train_loss.reset_states()\n",
        "      self.test_loss.reset_states()\n",
        "      self.train_accuracy.reset_states()\n",
        "      self.test_accuracy.reset_states()\n",
        "    return historyTR_LOSS, historyTS_LOSS, historyTR_ACC, historyTS_ACC"
      ],
      "execution_count": null,
      "outputs": []
    },
    {
      "cell_type": "code",
      "metadata": {
        "id": "nBEliEqA6nyp",
        "outputId": "a4684203-e7e5-46c1-c13b-d24492117a16",
        "colab": {
          "base_uri": "https://localhost:8080/"
        }
      },
      "source": [
        "model  = CNN ()\n",
        "opt    = Optimizer (model, batch_size = 10)\n",
        "tr_loss, ts_loss, tr_acc, ts_acc = opt.run (x, y, tx, ty, epochs=5)"
      ],
      "execution_count": null,
      "outputs": [
        {
          "output_type": "stream",
          "text": [
            "WARNING:tensorflow:Layer cnn_5 is casting an input tensor from dtype float64 to the layer's dtype of float32, which is new behavior in TensorFlow 2.  The layer has dtype float32 because its dtype defaults to floatx.\n",
            "\n",
            "If you intended to run this layer in float32, you can safely ignore this warning. If in doubt, this warning is likely only an issue if you are porting a TensorFlow 1.X model to TensorFlow 2.\n",
            "\n",
            "To change all layers to have dtype float64 by default, call `tf.keras.backend.set_floatx('float64')`. To change just this layer, pass dtype='float64' to the layer constructor. If you are the author of this layer, you can disable autocasting by passing autocast=False to the base Layer constructor.\n",
            "\n",
            "epoch:  1, TRAIN LOSS: : 0.0936555489897728, TEST LOSS: : 0.09002087265253067, TRAIN ACC: : 11.779999732971191, TEST ACC: : 10.000000149011612\n",
            "epoch:  2, TRAIN LOSS: : 0.09002895653247833, TEST LOSS: : 0.09003360569477081, TRAIN ACC: : 10.000000149011612, TEST ACC: : 10.000000149011612\n",
            "epoch:  3, TRAIN LOSS: : 0.08996003866195679, TEST LOSS: : 0.09001873433589935, TRAIN ACC: : 8.60000029206276, TEST ACC: : 10.000000149011612\n",
            "epoch:  4, TRAIN LOSS: : 0.08999329805374146, TEST LOSS: : 0.090038001537323, TRAIN ACC: : 10.000000149011612, TEST ACC: : 10.000000149011612\n",
            "epoch:  5, TRAIN LOSS: : 0.0899946391582489, TEST LOSS: : 0.08990667760372162, TRAIN ACC: : 2.199999988079071, TEST ACC: : 0.0\n"
          ],
          "name": "stdout"
        }
      ]
    },
    {
      "cell_type": "markdown",
      "metadata": {
        "id": "EoD4zrIFHylh"
      },
      "source": [
        "### 5) Conclusion \n",
        "- Handling a big size image requires high memory consumption comparing to 32x32x3. \n",
        "- Due to memory issues, this code is not able to increase batch_size, etc. "
      ]
    }
  ]
}